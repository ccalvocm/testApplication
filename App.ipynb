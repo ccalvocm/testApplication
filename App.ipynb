{
 "cells": [
  {
   "cell_type": "code",
   "execution_count": 5,
   "id": "440e50bc",
   "metadata": {},
   "outputs": [],
   "source": [
    "import ee\n",
    "import geemap\n",
    "geemap.ee_initialize()\n",
    "Map = geemap.Map(center=[40, -100], zoom=4)\n",
    "dataset = ee.ImageCollection('USGS/NLCD_RELEASES/2019_REL/NLCD')\n",
    "nlcd2019 = dataset.filter(ee.Filter.eq('system:index', '2019')).first()\n",
    "landcover = nlcd2019.select('landcover')\n",
    "Map.addLayer(landcover, {}, 'NLCD 2019')\n",
    "title = 'NLCD Land Cover Classification'\n",
    "Map.add_legend(title=title, builtin_legend='NLCD')"
   ]
  },
  {
   "cell_type": "code",
   "execution_count": 6,
   "id": "395f39cd",
   "metadata": {},
   "outputs": [
    {
     "data": {
      "application/vnd.jupyter.widget-view+json": {
       "model_id": "11dca07268404a3085e35b963392cdad",
       "version_major": 2,
       "version_minor": 0
      },
      "text/plain": [
       "Map(center=[40, -100], controls=(WidgetControl(options=['position', 'transparent_bg'], widget=Dropdown(layout=…"
      ]
     },
     "execution_count": 6,
     "metadata": {},
     "output_type": "execute_result"
    }
   ],
   "source": [
    "years = ['2001', '2004', '2006', '2008', '2011', '2013', '2016', '2019']\n",
    "def getNLCD(year):\n",
    "    dataset = ee.ImageCollection('USGS/NLCD_RELEASES/2019_REL/NLCD')\n",
    "    nlcd = dataset.filter(ee.Filter.eq('system:index', year)).first()\n",
    "    landcover = nlcd.select('landcover')\n",
    "    return landcover\n",
    "collection = ee.ImageCollection(ee.List(years).map(lambda year: getNLCD(year)))\n",
    "labels = [f'NLCD {year}' for year in years]\n",
    "Map.ts_inspector(\n",
    "    left_ts=collection,\n",
    "    right_ts=collection,\n",
    "    left_names=labels,\n",
    "    right_names=labels\n",
    ")\n",
    "Map"
   ]
  },
  {
   "cell_type": "code",
   "execution_count": null,
   "id": "5d335d8b",
   "metadata": {},
   "outputs": [],
   "source": []
  }
 ],
 "metadata": {
  "kernelspec": {
   "display_name": "38",
   "language": "python",
   "name": "38"
  },
  "language_info": {
   "codemirror_mode": {
    "name": "ipython",
    "version": 3
   },
   "file_extension": ".py",
   "mimetype": "text/x-python",
   "name": "python",
   "nbconvert_exporter": "python",
   "pygments_lexer": "ipython3",
   "version": "3.8.15"
  }
 },
 "nbformat": 4,
 "nbformat_minor": 5
}
